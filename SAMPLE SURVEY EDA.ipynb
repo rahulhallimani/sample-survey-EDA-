{
 "cells": [
  {
   "cell_type": "code",
   "execution_count": 1,
   "id": "a352f651",
   "metadata": {},
   "outputs": [],
   "source": [
    "# Importing required libraries.\n",
    "import pandas as pd \n",
    "import numpy as np\n",
    "import matplotlib.pyplot as plt\n",
    "%matplotlib inline\n",
    "import seaborn as sns\n",
    "import warnings\n",
    "warnings.filterwarnings(\"ignore\")\n",
    "\n"
   ]
  },
  {
   "cell_type": "markdown",
   "id": "e0668100",
   "metadata": {},
   "source": [
    "1. Load the dataset into a pandas dataframe. Name the variable as “survey”."
   ]
  },
  {
   "cell_type": "code",
   "execution_count": 2,
   "id": "e05dbc53",
   "metadata": {},
   "outputs": [],
   "source": [
    "survey = pd.read_excel(r\"C:\\Users\\LENOVO\\OneDrive\\Desktop\\Sample Survey.xlsx\",sheet_name= \"Data\")"
   ]
  },
  {
   "cell_type": "code",
   "execution_count": 3,
   "id": "037fa9ee",
   "metadata": {},
   "outputs": [
    {
     "data": {
      "text/html": [
       "<div>\n",
       "<style scoped>\n",
       "    .dataframe tbody tr th:only-of-type {\n",
       "        vertical-align: middle;\n",
       "    }\n",
       "\n",
       "    .dataframe tbody tr th {\n",
       "        vertical-align: top;\n",
       "    }\n",
       "\n",
       "    .dataframe thead th {\n",
       "        text-align: right;\n",
       "    }\n",
       "</style>\n",
       "<table border=\"1\" class=\"dataframe\">\n",
       "  <thead>\n",
       "    <tr style=\"text-align: right;\">\n",
       "      <th></th>\n",
       "      <th>response_id</th>\n",
       "      <th>collection_date</th>\n",
       "      <th>urban_rural</th>\n",
       "      <th>education</th>\n",
       "      <th>income</th>\n",
       "      <th>Vote_Now</th>\n",
       "      <th>Past_Vote</th>\n",
       "      <th>CM_satisfaction</th>\n",
       "      <th>MLA_satisfaction</th>\n",
       "      <th>age</th>\n",
       "      <th>gender</th>\n",
       "      <th>assembly_no</th>\n",
       "      <th>category</th>\n",
       "      <th>weight</th>\n",
       "    </tr>\n",
       "  </thead>\n",
       "  <tbody>\n",
       "    <tr>\n",
       "      <th>0</th>\n",
       "      <td>1</td>\n",
       "      <td>2020-08-24</td>\n",
       "      <td>Rural</td>\n",
       "      <td>12th Pass</td>\n",
       "      <td>₹ 30,000 - ₹ 50,000</td>\n",
       "      <td>BJP</td>\n",
       "      <td>BJP</td>\n",
       "      <td>Fully Dissatisfied</td>\n",
       "      <td>Fully Dissatisfied</td>\n",
       "      <td>26</td>\n",
       "      <td>Male</td>\n",
       "      <td>211</td>\n",
       "      <td>Gen</td>\n",
       "      <td>0.346969</td>\n",
       "    </tr>\n",
       "    <tr>\n",
       "      <th>1</th>\n",
       "      <td>2</td>\n",
       "      <td>2020-08-24</td>\n",
       "      <td>Rural</td>\n",
       "      <td>Graduate</td>\n",
       "      <td>₹ 20,000 - ₹ 30,000</td>\n",
       "      <td>RLSP</td>\n",
       "      <td>JD(U)</td>\n",
       "      <td>Somewhat Satisfied</td>\n",
       "      <td>Fully Dissatisfied</td>\n",
       "      <td>34</td>\n",
       "      <td>Male</td>\n",
       "      <td>189</td>\n",
       "      <td>BC</td>\n",
       "      <td>0.603419</td>\n",
       "    </tr>\n",
       "    <tr>\n",
       "      <th>2</th>\n",
       "      <td>3</td>\n",
       "      <td>2020-08-24</td>\n",
       "      <td>Rural</td>\n",
       "      <td>Graduate</td>\n",
       "      <td>₹ 5,000 - ₹ 10,000</td>\n",
       "      <td>JAP(L)</td>\n",
       "      <td>BJP</td>\n",
       "      <td>Fully Dissatisfied</td>\n",
       "      <td>Somewhat Satisfied</td>\n",
       "      <td>25</td>\n",
       "      <td>Male</td>\n",
       "      <td>191</td>\n",
       "      <td>Gen</td>\n",
       "      <td>0.673762</td>\n",
       "    </tr>\n",
       "    <tr>\n",
       "      <th>3</th>\n",
       "      <td>4</td>\n",
       "      <td>2020-08-24</td>\n",
       "      <td>Urban</td>\n",
       "      <td>Graduate</td>\n",
       "      <td>₹ 10,000 - ₹ 20,000</td>\n",
       "      <td>RJD</td>\n",
       "      <td>RJD</td>\n",
       "      <td>Fully Dissatisfied</td>\n",
       "      <td>Somewhat Satisfied</td>\n",
       "      <td>36</td>\n",
       "      <td>Male</td>\n",
       "      <td>194</td>\n",
       "      <td>Gen</td>\n",
       "      <td>1.101298</td>\n",
       "    </tr>\n",
       "    <tr>\n",
       "      <th>4</th>\n",
       "      <td>5</td>\n",
       "      <td>2020-08-24</td>\n",
       "      <td>Rural</td>\n",
       "      <td>Graduate</td>\n",
       "      <td>₹ 50,000 - ₹ 80,000</td>\n",
       "      <td>JD(U)</td>\n",
       "      <td>Did not vote</td>\n",
       "      <td>Fully Satisfied</td>\n",
       "      <td>Fully Satisfied</td>\n",
       "      <td>22</td>\n",
       "      <td>Male</td>\n",
       "      <td>176</td>\n",
       "      <td>BC</td>\n",
       "      <td>0.333505</td>\n",
       "    </tr>\n",
       "  </tbody>\n",
       "</table>\n",
       "</div>"
      ],
      "text/plain": [
       "   response_id collection_date urban_rural  education               income  \\\n",
       "0            1      2020-08-24       Rural  12th Pass  ₹ 30,000 - ₹ 50,000   \n",
       "1            2      2020-08-24       Rural   Graduate  ₹ 20,000 - ₹ 30,000   \n",
       "2            3      2020-08-24       Rural   Graduate   ₹ 5,000 - ₹ 10,000   \n",
       "3            4      2020-08-24       Urban   Graduate  ₹ 10,000 - ₹ 20,000   \n",
       "4            5      2020-08-24       Rural   Graduate  ₹ 50,000 - ₹ 80,000   \n",
       "\n",
       "  Vote_Now     Past_Vote     CM_satisfaction    MLA_satisfaction age gender  \\\n",
       "0      BJP           BJP  Fully Dissatisfied  Fully Dissatisfied  26   Male   \n",
       "1     RLSP         JD(U)  Somewhat Satisfied  Fully Dissatisfied  34   Male   \n",
       "2   JAP(L)           BJP  Fully Dissatisfied  Somewhat Satisfied  25   Male   \n",
       "3      RJD           RJD  Fully Dissatisfied  Somewhat Satisfied  36   Male   \n",
       "4    JD(U)  Did not vote     Fully Satisfied     Fully Satisfied  22   Male   \n",
       "\n",
       "   assembly_no category    weight  \n",
       "0          211      Gen  0.346969  \n",
       "1          189       BC  0.603419  \n",
       "2          191      Gen  0.673762  \n",
       "3          194      Gen  1.101298  \n",
       "4          176       BC  0.333505  "
      ]
     },
     "execution_count": 3,
     "metadata": {},
     "output_type": "execute_result"
    }
   ],
   "source": [
    "survey.head()"
   ]
  },
  {
   "cell_type": "code",
   "execution_count": null,
   "id": "35668ffe",
   "metadata": {},
   "outputs": [],
   "source": [
    "survey.info()\n",
    "\n"
   ]
  },
  {
   "cell_type": "code",
   "execution_count": null,
   "id": "b479bb46",
   "metadata": {},
   "outputs": [],
   "source": []
  },
  {
   "cell_type": "code",
   "execution_count": 5,
   "id": "b8a3f329",
   "metadata": {},
   "outputs": [
    {
     "data": {
      "text/plain": [
       "<seaborn.axisgrid.PairGrid at 0x15311da9790>"
      ]
     },
     "execution_count": 5,
     "metadata": {},
     "output_type": "execute_result"
    },
    {
     "data": {
      "image/png": "[encoded data removed]",
      "text/plain": [
       "<Figure size 540x540 with 12 Axes>"
      ]
     },
     "metadata": {
      "needs_background": "light"
     },
     "output_type": "display_data"
    }
   ],
   "source": [
    "## Let plot the survey to check the data spreeded and need to for followin steps\n",
    "sns.pairplot(survey)\n",
    "\n"
   ]
  },
  {
   "cell_type": "markdown",
   "id": "8b30838b",
   "metadata": {},
   "source": [
    "2. How many samples were collected on each day?"
   ]
  },
  {
   "cell_type": "code",
   "execution_count": 6,
   "id": "1de2e057",
   "metadata": {},
   "outputs": [],
   "source": [
    "# lets make dataframe of columns id and collections date for each day.\n",
    "#So lets apply some filters \n",
    "df=survey[[\"response_id\",\"collection_date\"]]"
   ]
  },
  {
   "cell_type": "code",
   "execution_count": 7,
   "id": "4a2237e5",
   "metadata": {},
   "outputs": [
    {
     "data": {
      "text/html": [
       "<div>\n",
       "<style scoped>\n",
       "    .dataframe tbody tr th:only-of-type {\n",
       "        vertical-align: middle;\n",
       "    }\n",
       "\n",
       "    .dataframe tbody tr th {\n",
       "        vertical-align: top;\n",
       "    }\n",
       "\n",
       "    .dataframe thead th {\n",
       "        text-align: right;\n",
       "    }\n",
       "</style>\n",
       "<table border=\"1\" class=\"dataframe\">\n",
       "  <thead>\n",
       "    <tr style=\"text-align: right;\">\n",
       "      <th></th>\n",
       "      <th>response_id</th>\n",
       "      <th>collection_date</th>\n",
       "    </tr>\n",
       "  </thead>\n",
       "  <tbody>\n",
       "    <tr>\n",
       "      <th>0</th>\n",
       "      <td>1</td>\n",
       "      <td>2020-08-24</td>\n",
       "    </tr>\n",
       "    <tr>\n",
       "      <th>1</th>\n",
       "      <td>2</td>\n",
       "      <td>2020-08-24</td>\n",
       "    </tr>\n",
       "    <tr>\n",
       "      <th>2</th>\n",
       "      <td>3</td>\n",
       "      <td>2020-08-24</td>\n",
       "    </tr>\n",
       "    <tr>\n",
       "      <th>3</th>\n",
       "      <td>4</td>\n",
       "      <td>2020-08-24</td>\n",
       "    </tr>\n",
       "    <tr>\n",
       "      <th>4</th>\n",
       "      <td>5</td>\n",
       "      <td>2020-08-24</td>\n",
       "    </tr>\n",
       "    <tr>\n",
       "      <th>...</th>\n",
       "      <td>...</td>\n",
       "      <td>...</td>\n",
       "    </tr>\n",
       "    <tr>\n",
       "      <th>6862</th>\n",
       "      <td>6863</td>\n",
       "      <td>2020-09-01</td>\n",
       "    </tr>\n",
       "    <tr>\n",
       "      <th>6863</th>\n",
       "      <td>6864</td>\n",
       "      <td>2020-09-01</td>\n",
       "    </tr>\n",
       "    <tr>\n",
       "      <th>6864</th>\n",
       "      <td>6865</td>\n",
       "      <td>2020-09-01</td>\n",
       "    </tr>\n",
       "    <tr>\n",
       "      <th>6865</th>\n",
       "      <td>6866</td>\n",
       "      <td>2020-09-01</td>\n",
       "    </tr>\n",
       "    <tr>\n",
       "      <th>6866</th>\n",
       "      <td>6867</td>\n",
       "      <td>2020-09-01</td>\n",
       "    </tr>\n",
       "  </tbody>\n",
       "</table>\n",
       "<p>6867 rows × 2 columns</p>\n",
       "</div>"
      ],
      "text/plain": [
       "      response_id collection_date\n",
       "0               1      2020-08-24\n",
       "1               2      2020-08-24\n",
       "2               3      2020-08-24\n",
       "3               4      2020-08-24\n",
       "4               5      2020-08-24\n",
       "...           ...             ...\n",
       "6862         6863      2020-09-01\n",
       "6863         6864      2020-09-01\n",
       "6864         6865      2020-09-01\n",
       "6865         6866      2020-09-01\n",
       "6866         6867      2020-09-01\n",
       "\n",
       "[6867 rows x 2 columns]"
      ]
     },
     "execution_count": 7,
     "metadata": {},
     "output_type": "execute_result"
    }
   ],
   "source": [
    "df"
   ]
  },
  {
   "cell_type": "code",
   "execution_count": 8,
   "id": "66ec08d9",
   "metadata": {},
   "outputs": [
    {
     "data": {
      "text/html": [
       "<div>\n",
       "<style scoped>\n",
       "    .dataframe tbody tr th:only-of-type {\n",
       "        vertical-align: middle;\n",
       "    }\n",
       "\n",
       "    .dataframe tbody tr th {\n",
       "        vertical-align: top;\n",
       "    }\n",
       "\n",
       "    .dataframe thead th {\n",
       "        text-align: right;\n",
       "    }\n",
       "</style>\n",
       "<table border=\"1\" class=\"dataframe\">\n",
       "  <thead>\n",
       "    <tr style=\"text-align: right;\">\n",
       "      <th></th>\n",
       "      <th>response_id</th>\n",
       "      <th>collection_date</th>\n",
       "      <th>year</th>\n",
       "      <th>month</th>\n",
       "      <th>day</th>\n",
       "    </tr>\n",
       "  </thead>\n",
       "  <tbody>\n",
       "    <tr>\n",
       "      <th>0</th>\n",
       "      <td>1</td>\n",
       "      <td>2020-08-24</td>\n",
       "      <td>2020</td>\n",
       "      <td>8</td>\n",
       "      <td>24</td>\n",
       "    </tr>\n",
       "    <tr>\n",
       "      <th>1</th>\n",
       "      <td>2</td>\n",
       "      <td>2020-08-24</td>\n",
       "      <td>2020</td>\n",
       "      <td>8</td>\n",
       "      <td>24</td>\n",
       "    </tr>\n",
       "    <tr>\n",
       "      <th>2</th>\n",
       "      <td>3</td>\n",
       "      <td>2020-08-24</td>\n",
       "      <td>2020</td>\n",
       "      <td>8</td>\n",
       "      <td>24</td>\n",
       "    </tr>\n",
       "    <tr>\n",
       "      <th>3</th>\n",
       "      <td>4</td>\n",
       "      <td>2020-08-24</td>\n",
       "      <td>2020</td>\n",
       "      <td>8</td>\n",
       "      <td>24</td>\n",
       "    </tr>\n",
       "    <tr>\n",
       "      <th>4</th>\n",
       "      <td>5</td>\n",
       "      <td>2020-08-24</td>\n",
       "      <td>2020</td>\n",
       "      <td>8</td>\n",
       "      <td>24</td>\n",
       "    </tr>\n",
       "    <tr>\n",
       "      <th>...</th>\n",
       "      <td>...</td>\n",
       "      <td>...</td>\n",
       "      <td>...</td>\n",
       "      <td>...</td>\n",
       "      <td>...</td>\n",
       "    </tr>\n",
       "    <tr>\n",
       "      <th>6862</th>\n",
       "      <td>6863</td>\n",
       "      <td>2020-09-01</td>\n",
       "      <td>2020</td>\n",
       "      <td>9</td>\n",
       "      <td>1</td>\n",
       "    </tr>\n",
       "    <tr>\n",
       "      <th>6863</th>\n",
       "      <td>6864</td>\n",
       "      <td>2020-09-01</td>\n",
       "      <td>2020</td>\n",
       "      <td>9</td>\n",
       "      <td>1</td>\n",
       "    </tr>\n",
       "    <tr>\n",
       "      <th>6864</th>\n",
       "      <td>6865</td>\n",
       "      <td>2020-09-01</td>\n",
       "      <td>2020</td>\n",
       "      <td>9</td>\n",
       "      <td>1</td>\n",
       "    </tr>\n",
       "    <tr>\n",
       "      <th>6865</th>\n",
       "      <td>6866</td>\n",
       "      <td>2020-09-01</td>\n",
       "      <td>2020</td>\n",
       "      <td>9</td>\n",
       "      <td>1</td>\n",
       "    </tr>\n",
       "    <tr>\n",
       "      <th>6866</th>\n",
       "      <td>6867</td>\n",
       "      <td>2020-09-01</td>\n",
       "      <td>2020</td>\n",
       "      <td>9</td>\n",
       "      <td>1</td>\n",
       "    </tr>\n",
       "  </tbody>\n",
       "</table>\n",
       "<p>6867 rows × 5 columns</p>\n",
       "</div>"
      ],
      "text/plain": [
       "      response_id collection_date  year  month  day\n",
       "0               1      2020-08-24  2020      8   24\n",
       "1               2      2020-08-24  2020      8   24\n",
       "2               3      2020-08-24  2020      8   24\n",
       "3               4      2020-08-24  2020      8   24\n",
       "4               5      2020-08-24  2020      8   24\n",
       "...           ...             ...   ...    ...  ...\n",
       "6862         6863      2020-09-01  2020      9    1\n",
       "6863         6864      2020-09-01  2020      9    1\n",
       "6864         6865      2020-09-01  2020      9    1\n",
       "6865         6866      2020-09-01  2020      9    1\n",
       "6866         6867      2020-09-01  2020      9    1\n",
       "\n",
       "[6867 rows x 5 columns]"
      ]
     },
     "execution_count": 8,
     "metadata": {},
     "output_type": "execute_result"
    }
   ],
   "source": [
    "df[\"year\"]=df[\"collection_date\"].dt.year\n",
    "df[\"month\"]=df[\"collection_date\"].dt.month\n",
    "df[\"day\"]=df[\"collection_date\"].dt.day\n",
    "df\n",
    "\n"
   ]
  },
  {
   "cell_type": "code",
   "execution_count": 9,
   "id": "079fac24",
   "metadata": {},
   "outputs": [
    {
     "data": {
      "text/plain": [
       "(array([1479.,  998.,  598.,  665.,    0.,  761.,  620.,  582.,  557.,\n",
       "         607.]),\n",
       " array([18498. , 18498.8, 18499.6, 18500.4, 18501.2, 18502. , 18502.8,\n",
       "        18503.6, 18504.4, 18505.2, 18506. ]),\n",
       " <BarContainer object of 10 artists>)"
      ]
     },
     "execution_count": 9,
     "metadata": {},
     "output_type": "execute_result"
    },
    {
     "data": {
      "image/png": "[encoded data removed]",
      "text/plain": [
       "<Figure size 432x288 with 1 Axes>"
      ]
     },
     "metadata": {
      "needs_background": "light"
     },
     "output_type": "display_data"
    }
   ],
   "source": [
    "df1=df[\"collection_date\"]\n",
    "plt.hist(df1)\n",
    "\n",
    "\n"
   ]
  },
  {
   "cell_type": "code",
   "execution_count": 10,
   "id": "13055a91",
   "metadata": {},
   "outputs": [
    {
     "data": {
      "text/plain": [
       "2020-08-24    1479\n",
       "2020-08-25     998\n",
       "2020-08-28     761\n",
       "2020-08-27     665\n",
       "2020-08-29     620\n",
       "2020-09-01     607\n",
       "2020-08-26     598\n",
       "2020-08-30     582\n",
       "2020-08-31     557\n",
       "Name: collection_date, dtype: int64"
      ]
     },
     "execution_count": 10,
     "metadata": {},
     "output_type": "execute_result"
    }
   ],
   "source": [
    "survey['collection_date'].value_counts()\n",
    "\n",
    "\n",
    "\n"
   ]
  },
  {
   "cell_type": "markdown",
   "id": "663aab9a",
   "metadata": {},
   "source": [
    "3. What proportion of the total respondents were aged less than 45?"
   ]
  },
  {
   "cell_type": "code",
   "execution_count": 11,
   "id": "ae7e8c45",
   "metadata": {},
   "outputs": [
    {
     "ename": "TypeError",
     "evalue": "'<' not supported between instances of 'str' and 'int'",
     "output_type": "error",
     "traceback": [
      "\u001b[1;31m---------------------------------------------------------------------------\u001b[0m",
      "\u001b[1;31mTypeError\u001b[0m                                 Traceback (most recent call last)",
      "\u001b[1;32m<ipython-input-11-35f894929546>\u001b[0m in \u001b[0;36m<module>\u001b[1;34m\u001b[0m\n\u001b[0;32m      3\u001b[0m \u001b[1;33m\u001b[0m\u001b[0m\n\u001b[0;32m      4\u001b[0m \u001b[1;33m\u001b[0m\u001b[0m\n\u001b[1;32m----> 5\u001b[1;33m \u001b[0mproportion\u001b[0m \u001b[1;33m=\u001b[0m \u001b[0mlen\u001b[0m\u001b[1;33m(\u001b[0m\u001b[0msurvey\u001b[0m\u001b[1;33m[\u001b[0m\u001b[0msurvey\u001b[0m\u001b[1;33m[\u001b[0m\u001b[1;34m'age'\u001b[0m\u001b[1;33m]\u001b[0m \u001b[1;33m<\u001b[0m \u001b[1;36m45\u001b[0m\u001b[1;33m]\u001b[0m\u001b[1;33m)\u001b[0m \u001b[1;33m/\u001b[0m \u001b[0mlen\u001b[0m\u001b[1;33m(\u001b[0m\u001b[0msurvey\u001b[0m\u001b[1;33m)\u001b[0m\u001b[1;33m\u001b[0m\u001b[1;33m\u001b[0m\u001b[0m\n\u001b[0m\u001b[0;32m      6\u001b[0m \u001b[1;33m\u001b[0m\u001b[0m\n\u001b[0;32m      7\u001b[0m \u001b[0mproportion\u001b[0m    \u001b[1;31m## So the responded were of aged is 93% onthe less than 45.\u001b[0m\u001b[1;33m\u001b[0m\u001b[1;33m\u001b[0m\u001b[0m\n",
      "\u001b[1;32m~\\anaconda3\\lib\\site-packages\\pandas\\core\\ops\\common.py\u001b[0m in \u001b[0;36mnew_method\u001b[1;34m(self, other)\u001b[0m\n\u001b[0;32m     63\u001b[0m         \u001b[0mother\u001b[0m \u001b[1;33m=\u001b[0m \u001b[0mitem_from_zerodim\u001b[0m\u001b[1;33m(\u001b[0m\u001b[0mother\u001b[0m\u001b[1;33m)\u001b[0m\u001b[1;33m\u001b[0m\u001b[1;33m\u001b[0m\u001b[0m\n\u001b[0;32m     64\u001b[0m \u001b[1;33m\u001b[0m\u001b[0m\n\u001b[1;32m---> 65\u001b[1;33m         \u001b[1;32mreturn\u001b[0m \u001b[0mmethod\u001b[0m\u001b[1;33m(\u001b[0m\u001b[0mself\u001b[0m\u001b[1;33m,\u001b[0m \u001b[0mother\u001b[0m\u001b[1;33m)\u001b[0m\u001b[1;33m\u001b[0m\u001b[1;33m\u001b[0m\u001b[0m\n\u001b[0m\u001b[0;32m     66\u001b[0m \u001b[1;33m\u001b[0m\u001b[0m\n\u001b[0;32m     67\u001b[0m     \u001b[1;32mreturn\u001b[0m \u001b[0mnew_method\u001b[0m\u001b[1;33m\u001b[0m\u001b[1;33m\u001b[0m\u001b[0m\n",
      "\u001b[1;32m~\\anaconda3\\lib\\site-packages\\pandas\\core\\arraylike.py\u001b[0m in \u001b[0;36m__lt__\u001b[1;34m(self, other)\u001b[0m\n\u001b[0;32m     35\u001b[0m     \u001b[1;33m@\u001b[0m\u001b[0munpack_zerodim_and_defer\u001b[0m\u001b[1;33m(\u001b[0m\u001b[1;34m\"__lt__\"\u001b[0m\u001b[1;33m)\u001b[0m\u001b[1;33m\u001b[0m\u001b[1;33m\u001b[0m\u001b[0m\n\u001b[0;32m     36\u001b[0m     \u001b[1;32mdef\u001b[0m \u001b[0m__lt__\u001b[0m\u001b[1;33m(\u001b[0m\u001b[0mself\u001b[0m\u001b[1;33m,\u001b[0m \u001b[0mother\u001b[0m\u001b[1;33m)\u001b[0m\u001b[1;33m:\u001b[0m\u001b[1;33m\u001b[0m\u001b[1;33m\u001b[0m\u001b[0m\n\u001b[1;32m---> 37\u001b[1;33m         \u001b[1;32mreturn\u001b[0m \u001b[0mself\u001b[0m\u001b[1;33m.\u001b[0m\u001b[0m_cmp_method\u001b[0m\u001b[1;33m(\u001b[0m\u001b[0mother\u001b[0m\u001b[1;33m,\u001b[0m \u001b[0moperator\u001b[0m\u001b[1;33m.\u001b[0m\u001b[0mlt\u001b[0m\u001b[1;33m)\u001b[0m\u001b[1;33m\u001b[0m\u001b[1;33m\u001b[0m\u001b[0m\n\u001b[0m\u001b[0;32m     38\u001b[0m \u001b[1;33m\u001b[0m\u001b[0m\n\u001b[0;32m     39\u001b[0m     \u001b[1;33m@\u001b[0m\u001b[0munpack_zerodim_and_defer\u001b[0m\u001b[1;33m(\u001b[0m\u001b[1;34m\"__le__\"\u001b[0m\u001b[1;33m)\u001b[0m\u001b[1;33m\u001b[0m\u001b[1;33m\u001b[0m\u001b[0m\n",
      "\u001b[1;32m~\\anaconda3\\lib\\site-packages\\pandas\\core\\series.py\u001b[0m in \u001b[0;36m_cmp_method\u001b[1;34m(self, other, op)\u001b[0m\n\u001b[0;32m   4976\u001b[0m         \u001b[0mrvalues\u001b[0m \u001b[1;33m=\u001b[0m \u001b[0mextract_array\u001b[0m\u001b[1;33m(\u001b[0m\u001b[0mother\u001b[0m\u001b[1;33m,\u001b[0m \u001b[0mextract_numpy\u001b[0m\u001b[1;33m=\u001b[0m\u001b[1;32mTrue\u001b[0m\u001b[1;33m)\u001b[0m\u001b[1;33m\u001b[0m\u001b[1;33m\u001b[0m\u001b[0m\n\u001b[0;32m   4977\u001b[0m \u001b[1;33m\u001b[0m\u001b[0m\n\u001b[1;32m-> 4978\u001b[1;33m         \u001b[0mres_values\u001b[0m \u001b[1;33m=\u001b[0m \u001b[0mops\u001b[0m\u001b[1;33m.\u001b[0m\u001b[0mcomparison_op\u001b[0m\u001b[1;33m(\u001b[0m\u001b[0mlvalues\u001b[0m\u001b[1;33m,\u001b[0m \u001b[0mrvalues\u001b[0m\u001b[1;33m,\u001b[0m \u001b[0mop\u001b[0m\u001b[1;33m)\u001b[0m\u001b[1;33m\u001b[0m\u001b[1;33m\u001b[0m\u001b[0m\n\u001b[0m\u001b[0;32m   4979\u001b[0m \u001b[1;33m\u001b[0m\u001b[0m\n\u001b[0;32m   4980\u001b[0m         \u001b[1;32mreturn\u001b[0m \u001b[0mself\u001b[0m\u001b[1;33m.\u001b[0m\u001b[0m_construct_result\u001b[0m\u001b[1;33m(\u001b[0m\u001b[0mres_values\u001b[0m\u001b[1;33m,\u001b[0m \u001b[0mname\u001b[0m\u001b[1;33m=\u001b[0m\u001b[0mres_name\u001b[0m\u001b[1;33m)\u001b[0m\u001b[1;33m\u001b[0m\u001b[1;33m\u001b[0m\u001b[0m\n",
      "\u001b[1;32m~\\anaconda3\\lib\\site-packages\\pandas\\core\\ops\\array_ops.py\u001b[0m in \u001b[0;36mcomparison_op\u001b[1;34m(left, right, op)\u001b[0m\n\u001b[0;32m    241\u001b[0m \u001b[1;33m\u001b[0m\u001b[0m\n\u001b[0;32m    242\u001b[0m     \u001b[1;32melif\u001b[0m \u001b[0mis_object_dtype\u001b[0m\u001b[1;33m(\u001b[0m\u001b[0mlvalues\u001b[0m\u001b[1;33m.\u001b[0m\u001b[0mdtype\u001b[0m\u001b[1;33m)\u001b[0m\u001b[1;33m:\u001b[0m\u001b[1;33m\u001b[0m\u001b[1;33m\u001b[0m\u001b[0m\n\u001b[1;32m--> 243\u001b[1;33m         \u001b[0mres_values\u001b[0m \u001b[1;33m=\u001b[0m \u001b[0mcomp_method_OBJECT_ARRAY\u001b[0m\u001b[1;33m(\u001b[0m\u001b[0mop\u001b[0m\u001b[1;33m,\u001b[0m \u001b[0mlvalues\u001b[0m\u001b[1;33m,\u001b[0m \u001b[0mrvalues\u001b[0m\u001b[1;33m)\u001b[0m\u001b[1;33m\u001b[0m\u001b[1;33m\u001b[0m\u001b[0m\n\u001b[0m\u001b[0;32m    244\u001b[0m \u001b[1;33m\u001b[0m\u001b[0m\n\u001b[0;32m    245\u001b[0m     \u001b[1;32melse\u001b[0m\u001b[1;33m:\u001b[0m\u001b[1;33m\u001b[0m\u001b[1;33m\u001b[0m\u001b[0m\n",
      "\u001b[1;32m~\\anaconda3\\lib\\site-packages\\pandas\\core\\ops\\array_ops.py\u001b[0m in \u001b[0;36mcomp_method_OBJECT_ARRAY\u001b[1;34m(op, x, y)\u001b[0m\n\u001b[0;32m     53\u001b[0m         \u001b[0mresult\u001b[0m \u001b[1;33m=\u001b[0m \u001b[0mlibops\u001b[0m\u001b[1;33m.\u001b[0m\u001b[0mvec_compare\u001b[0m\u001b[1;33m(\u001b[0m\u001b[0mx\u001b[0m\u001b[1;33m.\u001b[0m\u001b[0mravel\u001b[0m\u001b[1;33m(\u001b[0m\u001b[1;33m)\u001b[0m\u001b[1;33m,\u001b[0m \u001b[0my\u001b[0m\u001b[1;33m.\u001b[0m\u001b[0mravel\u001b[0m\u001b[1;33m(\u001b[0m\u001b[1;33m)\u001b[0m\u001b[1;33m,\u001b[0m \u001b[0mop\u001b[0m\u001b[1;33m)\u001b[0m\u001b[1;33m\u001b[0m\u001b[1;33m\u001b[0m\u001b[0m\n\u001b[0;32m     54\u001b[0m     \u001b[1;32melse\u001b[0m\u001b[1;33m:\u001b[0m\u001b[1;33m\u001b[0m\u001b[1;33m\u001b[0m\u001b[0m\n\u001b[1;32m---> 55\u001b[1;33m         \u001b[0mresult\u001b[0m \u001b[1;33m=\u001b[0m \u001b[0mlibops\u001b[0m\u001b[1;33m.\u001b[0m\u001b[0mscalar_compare\u001b[0m\u001b[1;33m(\u001b[0m\u001b[0mx\u001b[0m\u001b[1;33m.\u001b[0m\u001b[0mravel\u001b[0m\u001b[1;33m(\u001b[0m\u001b[1;33m)\u001b[0m\u001b[1;33m,\u001b[0m \u001b[0my\u001b[0m\u001b[1;33m,\u001b[0m \u001b[0mop\u001b[0m\u001b[1;33m)\u001b[0m\u001b[1;33m\u001b[0m\u001b[1;33m\u001b[0m\u001b[0m\n\u001b[0m\u001b[0;32m     56\u001b[0m     \u001b[1;32mreturn\u001b[0m \u001b[0mresult\u001b[0m\u001b[1;33m.\u001b[0m\u001b[0mreshape\u001b[0m\u001b[1;33m(\u001b[0m\u001b[0mx\u001b[0m\u001b[1;33m.\u001b[0m\u001b[0mshape\u001b[0m\u001b[1;33m)\u001b[0m\u001b[1;33m\u001b[0m\u001b[1;33m\u001b[0m\u001b[0m\n\u001b[0;32m     57\u001b[0m \u001b[1;33m\u001b[0m\u001b[0m\n",
      "\u001b[1;32mpandas\\_libs\\ops.pyx\u001b[0m in \u001b[0;36mpandas._libs.ops.scalar_compare\u001b[1;34m()\u001b[0m\n",
      "\u001b[1;31mTypeError\u001b[0m: '<' not supported between instances of 'str' and 'int'"
     ]
    }
   ],
   "source": [
    "\n",
    "\n",
    "## Task-3\n",
    "# Proportions of total responded were aged less than 45??\n",
    "\n",
    "\n",
    "proportion = len(survey[survey['age'] < 45]) / len(survey)\n",
    "\n",
    "proportion    ## So the responded were of aged is 93% onthe less than 45.  \n",
    "\n"
   ]
  },
  {
   "cell_type": "markdown",
   "id": "26f87419",
   "metadata": {},
   "source": [
    "4. Create a new column in the dataframe “age_group”. This column should contain the age\n",
    "group the respondent belongs to. The age groups are 18-25, 25-40, 40-55 and 55+. The\n",
    "dataframe should look like this after the column creation:"
   ]
  },
  {
   "cell_type": "code",
   "execution_count": null,
   "id": "81c68d08",
   "metadata": {},
   "outputs": [],
   "source": [
    "## We can make dictionary function\n",
    "## or \n",
    "# #We need to creat dataframe with new column of age_group and bin it.\n",
    "## Lets apply binning functon to make the new dataframe column."
   ]
  },
  {
   "cell_type": "code",
   "execution_count": null,
   "id": "a1bc3899",
   "metadata": {},
   "outputs": [],
   "source": [
    "ml1=list(range(18,26))\n",
    "mydict1=dict.fromkeys(ml1,'18-25')\n",
    "ml2=list(range(25,41))\n",
    "mydict2=dict.fromkeys(ml2,'25-40')\n",
    "ml3=list(range(40,56))\n",
    "mydict3=dict.fromkeys(ml3,'40-55')\n",
    "ml4=list(range(56,100))\n",
    "mydict4=dict.fromkeys(ml4,'55+')\n",
    "mydict1.update(mydict2)\n",
    "mydict1.update(mydict3)\n",
    "mydict1.update(mydict4)\n",
    "survey['age_group']=survey['age'].map(mydict1)\n",
    "survey.head()\n",
    "\n"
   ]
  },
  {
   "cell_type": "code",
   "execution_count": null,
   "id": "8218be35",
   "metadata": {},
   "outputs": [],
   "source": [
    "New_df = pd.DataFrame([18,19,20,21,22,23,24,25,26,27,28,29,30,31,32,33,34,35,36,37,38,39,40,41,42,43,44,45,46,47,48,49,50,51,52,53,54,55,56,57,58,59,60,61,62,63,64,65,66,67,68,69,70,71,72,74,75,76,99], columns=['age'])\n",
    "bins= [18,25,40,50,60,70,80,100]\n",
    "labels = ['18-25', '25-40', '40-55', '55-65','65-70','70-99','100+']\n",
    "New_df['age_group'] = pd.cut(New_df.age, bins, labels = labels,include_lowest = True)\n",
    "print(New_df)"
   ]
  },
  {
   "cell_type": "markdown",
   "id": "a7d004f0",
   "metadata": {},
   "source": [
    "5.How many samples were collected for each age-group? Which age-group had the most\n",
    "samples?"
   ]
  },
  {
   "cell_type": "code",
   "execution_count": null,
   "id": "06312b4a",
   "metadata": {},
   "outputs": [],
   "source": [
    "sns.countplot(x=\"age\",hue=\"age_group\",data = New_df)\n",
    "plt.show()\n",
    "\n"
   ]
  },
  {
   "cell_type": "code",
   "execution_count": null,
   "id": "37158065",
   "metadata": {},
   "outputs": [],
   "source": [
    "#From the above plot we say that age_group of \"25-40\" that is \"Orange Color\" \n",
    "# has high range of ages.\n",
    "# And when apply value counts fuction we will get like below one \n",
    "\n",
    "New_df['age_group'].value_counts() ## 25-40 age_group\n",
    "\n"
   ]
  },
  {
   "cell_type": "markdown",
   "id": "59be7485",
   "metadata": {},
   "source": [
    "6.What proportion of the respondents had opted for the RJD party in both the Vote_Now\n",
    "and the Past_Vote questions?"
   ]
  },
  {
   "cell_type": "code",
   "execution_count": null,
   "id": "c4fe89a6",
   "metadata": {},
   "outputs": [],
   "source": [
    "## We need to used logical operators\n",
    "proportion=len(survey[(survey['Vote_Now']=='RJD')  & (survey['Past_Vote']=='RJD')])/len(survey)\n",
    "\n",
    "# We need to calculate the percentage of responded for RJD in the both times.\n",
    "\n",
    "print('There are {}% RJD in both the elections vote_now and past_vote'.format(proportion*100))"
   ]
  },
  {
   "cell_type": "markdown",
   "id": "6843d33c",
   "metadata": {},
   "source": [
    "7. For each day of sample collection, determine the proportion of respondents who were\n",
    "fully satisfied with the performance of the CM. So if there were a total of 1000 samples\n",
    "on day 1 and 300 out of those said they were fully satisfied, then our answer for that day\n",
    "would be 0.3."
   ]
  },
  {
   "cell_type": "code",
   "execution_count": null,
   "id": "7b90978f",
   "metadata": {},
   "outputs": [],
   "source": [
    "survey.groupby(by='collection_date')[['CM_satisfaction']].apply(lambda x:np.sum(x=='Fully Satisfied')/len(x)*100)"
   ]
  },
  {
   "cell_type": "markdown",
   "id": "bdf3771a",
   "metadata": {},
   "source": [
    "8. In a similar fashion create a day-wise proportion of respondents that opted fully\n",
    "dissatisfied with their MLA. Create a line plot of the result with date on x-axis and\n",
    "proportions on the y-axis."
   ]
  },
  {
   "cell_type": "code",
   "execution_count": null,
   "id": "2b52a7a1",
   "metadata": {},
   "outputs": [],
   "source": [
    "## Similar steps for the dis-satisfaction with the MLA and line plot\n",
    "## we need to import datetime library for line plot...."
   ]
  },
  {
   "cell_type": "code",
   "execution_count": null,
   "id": "78587408",
   "metadata": {},
   "outputs": [],
   "source": [
    "Dis_table = pd.DataFrame(survey.groupby(by='collection_date')[['MLA_satisfaction']].apply(lambda x:np.sum(x=='Fully Dissatisfied')/len(x)*100))\n",
    "\n",
    "print(Dis_table)\n",
    "\n",
    "import datetime\n",
    "Dis_table.index.date\n",
    "Dis_table.plot()"
   ]
  },
  {
   "cell_type": "markdown",
   "id": "0df3fc92",
   "metadata": {},
   "source": [
    "9. Create a pivot-table (or crosstab) with index as Past_Vote, Column as Vote_Now and\n",
    "cell values as the count of samples."
   ]
  },
  {
   "cell_type": "code",
   "execution_count": null,
   "id": "c1624478",
   "metadata": {},
   "outputs": [],
   "source": [
    "pd.pivot_table(data=survey,index='Past_Vote',columns='Vote_Now',aggfunc='count',values='response_id')"
   ]
  },
  {
   "cell_type": "markdown",
   "id": "3ed6d2d2",
   "metadata": {},
   "source": [
    "10. Repeat the above question with the cell values as the sum of “weight”."
   ]
  },
  {
   "cell_type": "code",
   "execution_count": null,
   "id": "1d9e97fc",
   "metadata": {},
   "outputs": [],
   "source": [
    "pd.pivot_table(data=survey,index='Past_Vote',columns='Vote_Now',aggfunc='sum',values='weight')"
   ]
  },
  {
   "cell_type": "markdown",
   "id": "6db4984f",
   "metadata": {},
   "source": [
    "11. Create a dataframe by performing a group by over age_group and calculate the count of\n",
    "total samples under each age_group."
   ]
  },
  {
   "cell_type": "code",
   "execution_count": null,
   "id": "e989c569",
   "metadata": {},
   "outputs": [],
   "source": [
    "df4=pd.DataFrame(survey.groupby(by=\"age_group\")[\"response_id\"].agg(\"count\"))\n",
    "print(df4)"
   ]
  },
  {
   "cell_type": "markdown",
   "id": "a2f6be81",
   "metadata": {},
   "source": [
    "12. Create a dataframe by performing a group by over age_group and finding the count of\n",
    "total samples for each age_group that opted for the JD(U) party in Vote_Now."
   ]
  },
  {
   "cell_type": "code",
   "execution_count": null,
   "id": "23f34876",
   "metadata": {},
   "outputs": [],
   "source": [
    "df5=pd.DataFrame(survey.groupby(by=\"age_group\")[\"Vote_Now\"].apply(lambda x:np.sum(x==\"JD(U)\")))\n",
    "print(df5)"
   ]
  },
  {
   "cell_type": "markdown",
   "id": "f6281f46",
   "metadata": {},
   "source": [
    "13. Join/Merge the two dataframes from questions 12 and 11 with the common column as age_group"
   ]
  },
  {
   "cell_type": "code",
   "execution_count": null,
   "id": "fbbabbce",
   "metadata": {},
   "outputs": [],
   "source": [
    "df_inner = pd.merge(df4, df5, on='age_group', how='inner')\n",
    "df_inner"
   ]
  },
  {
   "cell_type": "code",
   "execution_count": null,
   "id": "b6945beb",
   "metadata": {},
   "outputs": [],
   "source": [
    "survey.head()"
   ]
  },
  {
   "cell_type": "code",
   "execution_count": null,
   "id": "45ef6efa",
   "metadata": {},
   "outputs": [],
   "source": [
    "survey.split(income)"
   ]
  },
  {
   "cell_type": "code",
   "execution_count": null,
   "id": "2fa62a68",
   "metadata": {},
   "outputs": [],
   "source": []
  },
  {
   "cell_type": "code",
   "execution_count": null,
   "id": "43bb6fb8",
   "metadata": {},
   "outputs": [],
   "source": []
  }
 ],
 "metadata": {
  "kernelspec": {
   "display_name": "Python 3",
   "language": "python",
   "name": "python3"
  },
  "language_info": {
   "codemirror_mode": {
    "name": "ipython",
    "version": 3
   },
   "file_extension": ".py",
   "mimetype": "text/x-python",
   "name": "python",
   "nbconvert_exporter": "python",
   "pygments_lexer": "ipython3",
   "version": "3.8.8"
  }
 },
 "nbformat": 4,
 "nbformat_minor": 5
}
